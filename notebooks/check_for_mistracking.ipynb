{
 "cells": [
  {
   "cell_type": "code",
   "execution_count": 4,
   "metadata": {
    "ExecuteTime": {
     "end_time": "2018-01-14T13:06:52.586527Z",
     "start_time": "2018-01-14T13:06:50.247782Z"
    },
    "scrolled": true
   },
   "outputs": [
    {
     "name": "stdout",
     "output_type": "stream",
     "text": [
      "System 'VERO-PC' found.\n",
      "Project 'DIFF' found.\n",
      "\u001b[0;36;40m[pytrack_analysis.dataio]\t\u001b[0mLoading raw data folders and file structure...found 72 sessions...\u001b[0;32;40mdone.\u001b[0m\n"
     ]
    }
   ],
   "source": [
    "import os\n",
    "import numpy as np\n",
    "import pandas as pd\n",
    "\n",
    "from pytrack_analysis import Multibench\n",
    "from pytrack_analysis.dataio import RawData, get_session_list\n",
    "from pytrack_analysis.profile import get_profile, get_scriptname, show_profile\n",
    "from pytrack_analysis.posttracking import frameskips, get_displacements, mistracks, get_head_tail\n",
    "from pytrack_analysis.viz import plot_along, plot_fly, plot_interval, plot_overlay, plot_ts\n",
    "import matplotlib.pyplot as plt\n",
    "\n",
    "experiment = 'DIFF'\n",
    "user = 'degoldschmidt'\n",
    "ascript = '001-post_tracking.ipynb'\n",
    "\n",
    "profile = get_profile(experiment, user, script=ascript)\n",
    "folders = profile.get_folders()\n",
    "\n",
    "colnames = ['datetime', 'elapsed_time', 'frame_dt', 'body_x',   'body_y',   'angle',    'major',    'minor']\n",
    "colunits = ['Datetime', 's',            's',        'px',       'px',       'rad',      'px',       'px']\n",
    "raw_data = RawData(experiment, folders, columns=colnames, units=colunits, noVideo=True)"
   ]
  },
  {
   "cell_type": "code",
   "execution_count": 5,
   "metadata": {
    "ExecuteTime": {
     "end_time": "2018-01-14T13:27:30.888436Z",
     "start_time": "2018-01-14T13:27:29.311010Z"
    },
    "collapsed": true,
    "scrolled": true
   },
   "outputs": [],
   "source": [
    "def get_preprocessed_session(raw_data, session_id, fly):\n",
    "    raw_data.get_session(session_id)\n",
    "    load_from_file = True\n",
    "    ### for each arena\n",
    "    for i_arena, each_df in enumerate(raw_data.get_data()):\n",
    "        ### compute frame-to-frame displacements\n",
    "        arena = raw_data.arenas[i_arena]\n",
    "        each_df['displacement'], each_df['dx'], each_df['dy'], each_df['mov_angle'], each_df['align'], each_df['acc'] = get_displacements(each_df, x='body_x', y='body_y', angle='angle')\n",
    "        ### detect mistracked frames\n",
    "        each_df = mistracks(each_df, i_arena, dr='displacement', major='major', thresholds=(4*8.543, 5*8.543), keep=True)\n",
    "        ### compute head and tail positions\n",
    "        each_df['head_x'], each_df['head_y'], each_df['tail_x'], each_df['tail_y'] = get_head_tail(each_df, x='body_x', y='body_y', angle='angle', major='major')\n",
    "        file_id = 4 * (session_id) + i_arena + 1\n",
    "        _file = os.path.join(folders['processed'],'post_tracking','{}_{:03d}.csv'.format(experiment, file_id))\n",
    "        if load_from_file:\n",
    "            print(\"Loading data from\", _file)\n",
    "            df = pd.read_csv(_file, index_col='frame')\n",
    "            each_df['flip'] = df['flip']\n",
    "            each_df['headpx'] = df['headpx']\n",
    "            each_df['tailpx'] = df['tailpx']\n",
    "        else:\n",
    "            flip, headpx, tailpx = get_pixel_flip(each_df, hx='head_px', hy='head_py', tx='tail_px', ty='tail_py', offset=(arena.x, arena.y), video=raw_data.video_file, start=raw_data.first_frame)\n",
    "            each_df['flip'] = flip\n",
    "            each_df['headpx'] = headpx\n",
    "            each_df['tailpx'] = tailpx\n",
    "            print(\"Saving data to\", _file)\n",
    "            each_df.to_csv(_file, index_label='frame')\n",
    "        each_df['jump'] = each_df['acc'] > 5.\n",
    "        each_df['flipped'] = each_df['displacement'] < 0.\n",
    "        print(np.sum(each_df['flipped']))\n",
    "        jumptimes = np.append(each_df.index[0], each_df.query('jump == True').index)\n",
    "        jumptimes = np.append(jumptimes, each_df.index[-1])\n",
    "        if i_arena == fly:\n",
    "            print(jumptimes)\n",
    "        for i, each in enumerate(jumptimes[1:]):\n",
    "            dt = min(jumptimes[i+1]-jumptimes[i], 250)\n",
    "            mean_flip = np.mean(each_df.loc[jumptimes[i]:jumptimes[i]+dt, 'flip'])\n",
    "            mean_align = np.mean(each_df.loc[jumptimes[i]:jumptimes[i]+dt, 'align'])\n",
    "            flip_decision = (mean_flip > 0.5 and mean_align < 0.) or mean_flip > 0.9 or mean_align < -0.1\n",
    "            if i_arena == fly:\n",
    "                print(jumptimes[i], dt, mean_flip, mean_align, flip_decision)\n",
    "            if flip_decision:\n",
    "                nheadx, nheady = np.array(each_df.loc[jumptimes[i]:jumptimes[i+1], 'tail_x']), np.array(each_df.loc[jumptimes[i]:jumptimes[i+1], 'tail_y'])\n",
    "                ntailx, ntaily = np.array(each_df.loc[jumptimes[i]:jumptimes[i+1], 'head_x']), np.array(each_df.loc[jumptimes[i]:jumptimes[i+1], 'head_y']) \n",
    "                each_df.loc[jumptimes[i]:jumptimes[i+1], 'head_x'] = nheadx\n",
    "                each_df.loc[jumptimes[i]:jumptimes[i+1], 'tail_x'] = ntailx\n",
    "                each_df.loc[jumptimes[i]:jumptimes[i+1], 'head_y'] = nheady\n",
    "                each_df.loc[jumptimes[i]:jumptimes[i+1], 'tail_y'] = ntaily\n",
    "                each_df.loc[jumptimes[i]:jumptimes[i+1], 'angle'] -= np.pi\n",
    "                each_df.loc[jumptimes[i]:jumptimes[i+1],'flipped'] = True\n",
    "    return raw_data\n",
    "\n",
    "def plot_arena(arena=None, spots=None, condition=None, ax=None):\n",
    "    spot_colors = {'yeast': '#ffc04c', 'sucrose': '#4c8bff'}\n",
    "    cond_colors = {'SAA': '#b6d7a8', 'AA': '#A4C2F4', 'S': '#EA9999', 'O': '#CCCCCC'}\n",
    "    if ax is None:\n",
    "        ax = plt.gca()\n",
    "    ### artists\n",
    "    if arena is not None:\n",
    "        ax.set_xlim([-1.1*arena.ro, 1.1*arena.ro])\n",
    "        ax.set_ylim([-1.1*arena.ro, 1.1*arena.ro])\n",
    "        arena_border = plt.Circle((0, 0), arena.rr, color='k', fill=False)\n",
    "        ax.add_artist(arena_border)\n",
    "        outer_arena_border = plt.Circle((0, 0), arena.ro, color='#aaaaaa', fill=False)\n",
    "        ax.add_artist(outer_arena_border)\n",
    "        ax.plot(0, 0, 'o', color='black', markersize=2)\n",
    "    if spots is not None:\n",
    "        for each_spot in spots:\n",
    "            substr = each_spot.substrate\n",
    "            spot = plt.Circle((each_spot.rx, each_spot.ry), each_spot.rr, color=spot_colors[substr], alpha=0.5)\n",
    "            ax.add_artist(spot)\n",
    "    if condition is not None:\n",
    "        if condition in cond_colors.keys():\n",
    "            spot = plt.Rectangle((-arena.ro, arena.ro-2), 5, 5, color=cond_colors[condition])\n",
    "            ax.add_artist(spot)\n",
    "    ax.set_aspect(\"equal\")\n",
    "    ax.get_xaxis().set_visible(False)\n",
    "    ax.get_yaxis().set_visible(False)\n",
    "    ax.axis('off')\n",
    "    return ax\n",
    "\n",
    "def plot_traj(data, scale, time=None):\n",
    "    %matplotlib inline\n",
    "    f, axes = plt.subplots(2, 2, figsize=(20,20))\n",
    "    fly = 0\n",
    "    for each_row in axes:\n",
    "        for ax in each_row:\n",
    "            arena = data.arenas[fly]\n",
    "            df = data.raw_data[fly]\n",
    "            if time is None:\n",
    "                start, end = df.index[0], df.index[-1]\n",
    "            else:\n",
    "                start, end = time\n",
    "            ax = plot_arena(arena=arena, spots=arena.spots, condition=data.condition[fly], ax=ax)\n",
    "            x = df.loc[start:end, 'body_x']\n",
    "            y = df.loc[start:end, 'body_y']\n",
    "            hx = df.loc[start:end, 'head_x']\n",
    "            hy = df.loc[start:end, 'head_y']\n",
    "            tx = df.loc[start:end, 'tail_x']\n",
    "            ty = df.loc[start:end, 'tail_y']\n",
    "            ax.plot(x/scale, y/scale, c='k')\n",
    "            ax.scatter(tx/scale, ty/scale, c='b')\n",
    "            ax.scatter(hx/scale, hy/scale, c='r')\n",
    "            fly += 1\n",
    "    plt.tight_layout()\n",
    "    plt.show()\n",
    "    \n",
    "def plot_single(data, fly, scale, time=None):\n",
    "    %matplotlib inline\n",
    "    f, ax = plt.subplots(1, figsize=(20,20))\n",
    "    arena = data.arenas[fly]\n",
    "    df = data.raw_data[fly]\n",
    "    if time is None:\n",
    "        start, end = df.index[0], df.index[-1]\n",
    "    else:\n",
    "        start, end = time\n",
    "    ax = plot_arena(arena=arena, spots=arena.spots, condition=data.condition[fly], ax=ax)\n",
    "    x = df.loc[start:end, 'body_x']\n",
    "    y = df.loc[start:end, 'body_y']\n",
    "    hx = df.loc[start:end, 'head_x']\n",
    "    hy = df.loc[start:end, 'head_y']\n",
    "    tx = df.loc[start:end, 'tail_x']\n",
    "    ty = df.loc[start:end, 'tail_y']\n",
    "    \n",
    "    ax.plot(x/scale, y/scale, c='k')\n",
    "    ax.scatter(tx/scale, ty/scale, c='b')\n",
    "    ax.scatter(hx/scale, hy/scale, c='r')\n",
    "    nfigs = 5\n",
    "    scale = 4\n",
    "    f_ts, axes = plt.subplots(nfigs, figsize=(5*scale,scale*nfigs*1))\n",
    "    speed = df.loc[start:end, 'displacement']\n",
    "    acc = df.loc[start:end, 'acc']\n",
    "    jump = df.loc[start:end, 'jump']\n",
    "    angle = df.loc[start:end, 'angle']\n",
    "    movement = df.loc[start:end, 'mov_angle']\n",
    "    align = df.loc[start:end, 'align']\n",
    "    flipped = df.loc[start:end, 'flipped']\n",
    "    headpx = df.loc[start:end, 'headpx']\n",
    "    tailpx = df.loc[start:end, 'tailpx']\n",
    "    flips = df.loc[start:end, 'flip']\n",
    "    axes[0].plot(speed, c='#FD5F00')\n",
    "    axes[0].plot(speed[jump>0],'k*')\n",
    "    axes[1].plot(acc, c='#22225F')\n",
    "    axes[2].plot(angle, c='#FD00F5')\n",
    "    axes[2].plot(flipped, c='#00FDF5')\n",
    "    axes[2].plot(align, c='#222222')\n",
    "    axes[3].plot(headpx, c='r')\n",
    "    axes[3].plot(tailpx, c='g')\n",
    "    axes[4].plot(flips, c='k')\n",
    "    plt.tight_layout()\n",
    "    plt.show()"
   ]
  },
  {
   "cell_type": "code",
   "execution_count": 6,
   "metadata": {
    "ExecuteTime": {
     "end_time": "2018-01-14T15:39:50.931310Z",
     "start_time": "2018-01-14T15:39:43.579741Z"
    }
   },
   "outputs": [
    {
     "name": "stdout",
     "output_type": "stream",
     "text": [
      "\u001b[0;36;40m[pytrack_analysis.dataio]\t\u001b[0m"
     ]
    },
    {
     "ename": "IndexError",
     "evalue": "tuple index out of range",
     "output_type": "error",
     "traceback": [
      "\u001b[1;31m---------------------------------------------------------------------------\u001b[0m",
      "\u001b[1;31mIndexError\u001b[0m                                Traceback (most recent call last)",
      "\u001b[1;32m<ipython-input-6-572efb2dd3da>\u001b[0m in \u001b[0;36m<module>\u001b[1;34m()\u001b[0m\n\u001b[0;32m      1\u001b[0m \u001b[0mi_session\u001b[0m \u001b[1;33m=\u001b[0m \u001b[1;36m0\u001b[0m\u001b[1;33m\u001b[0m\u001b[0m\n\u001b[0;32m      2\u001b[0m \u001b[0mi_fly\u001b[0m \u001b[1;33m=\u001b[0m \u001b[1;36m0\u001b[0m\u001b[1;33m\u001b[0m\u001b[0m\n\u001b[1;32m----> 3\u001b[1;33m \u001b[0mraw_data\u001b[0m \u001b[1;33m=\u001b[0m \u001b[0mget_preprocessed_session\u001b[0m\u001b[1;33m(\u001b[0m\u001b[0mraw_data\u001b[0m\u001b[1;33m,\u001b[0m \u001b[0mi_session\u001b[0m\u001b[1;33m,\u001b[0m \u001b[0mi_fly\u001b[0m\u001b[1;33m)\u001b[0m\u001b[1;33m\u001b[0m\u001b[0m\n\u001b[0m\u001b[0;32m      4\u001b[0m \u001b[1;31m### scale trajectories to mm\u001b[0m\u001b[1;33m\u001b[0m\u001b[1;33m\u001b[0m\u001b[0m\n\u001b[0;32m      5\u001b[0m \u001b[0mscale\u001b[0m \u001b[1;33m=\u001b[0m \u001b[1;36m8.543\u001b[0m\u001b[1;33m\u001b[0m\u001b[0m\n",
      "\u001b[1;32m<ipython-input-5-f357378314e8>\u001b[0m in \u001b[0;36mget_preprocessed_session\u001b[1;34m(raw_data, session_id, fly)\u001b[0m\n\u001b[0;32m      1\u001b[0m \u001b[1;32mdef\u001b[0m \u001b[0mget_preprocessed_session\u001b[0m\u001b[1;33m(\u001b[0m\u001b[0mraw_data\u001b[0m\u001b[1;33m,\u001b[0m \u001b[0msession_id\u001b[0m\u001b[1;33m,\u001b[0m \u001b[0mfly\u001b[0m\u001b[1;33m)\u001b[0m\u001b[1;33m:\u001b[0m\u001b[1;33m\u001b[0m\u001b[0m\n\u001b[1;32m----> 2\u001b[1;33m     \u001b[0mraw_data\u001b[0m\u001b[1;33m.\u001b[0m\u001b[0mget_session\u001b[0m\u001b[1;33m(\u001b[0m\u001b[0msession_id\u001b[0m\u001b[1;33m)\u001b[0m\u001b[1;33m\u001b[0m\u001b[0m\n\u001b[0m\u001b[0;32m      3\u001b[0m     \u001b[0mload_from_file\u001b[0m \u001b[1;33m=\u001b[0m \u001b[1;32mTrue\u001b[0m\u001b[1;33m\u001b[0m\u001b[0m\n\u001b[0;32m      4\u001b[0m     \u001b[1;31m### for each arena\u001b[0m\u001b[1;33m\u001b[0m\u001b[1;33m\u001b[0m\u001b[0m\n\u001b[0;32m      5\u001b[0m     \u001b[1;32mfor\u001b[0m \u001b[0mi_arena\u001b[0m\u001b[1;33m,\u001b[0m \u001b[0meach_df\u001b[0m \u001b[1;32min\u001b[0m \u001b[0menumerate\u001b[0m\u001b[1;33m(\u001b[0m\u001b[0mraw_data\u001b[0m\u001b[1;33m.\u001b[0m\u001b[0mget_data\u001b[0m\u001b[1;33m(\u001b[0m\u001b[1;33m)\u001b[0m\u001b[1;33m)\u001b[0m\u001b[1;33m:\u001b[0m\u001b[1;33m\u001b[0m\u001b[0m\n",
      "\u001b[1;32mE:\\Users\\Vero\\AppData\\Local\\Programs\\Python\\Python36\\lib\\site-packages\\pytrack_analysis-0.0.3-py3.6.egg\\pytrack_analysis\\dataio.py\u001b[0m in \u001b[0;36mget_session\u001b[1;34m(self, _id)\u001b[0m\n\u001b[0;32m    156\u001b[0m         \u001b[0mself\u001b[0m\u001b[1;33m.\u001b[0m\u001b[0mtimestamp\u001b[0m \u001b[1;33m=\u001b[0m \u001b[0mself\u001b[0m\u001b[1;33m.\u001b[0m\u001b[0mdtime\u001b[0m\u001b[1;33m[\u001b[0m\u001b[0m_id\u001b[0m\u001b[1;33m]\u001b[0m\u001b[1;33m\u001b[0m\u001b[0m\n\u001b[0;32m    157\u001b[0m         \u001b[0mself\u001b[0m\u001b[1;33m.\u001b[0m\u001b[0mstarttime\u001b[0m \u001b[1;33m=\u001b[0m \u001b[0mget_session_start\u001b[0m\u001b[1;33m(\u001b[0m\u001b[0mself\u001b[0m\u001b[1;33m.\u001b[0m\u001b[0mallfiles\u001b[0m\u001b[1;33m[\u001b[0m\u001b[0m_id\u001b[0m\u001b[1;33m]\u001b[0m\u001b[1;33m[\u001b[0m\u001b[1;34m'timestart'\u001b[0m\u001b[1;33m]\u001b[0m\u001b[1;33m)\u001b[0m\u001b[1;33m\u001b[0m\u001b[0m\n\u001b[1;32m--> 158\u001b[1;33m         \u001b[0mflprint\u001b[0m\u001b[1;33m(\u001b[0m\u001b[1;34m\"start post-tracking analysis for session {} ({})\"\u001b[0m\u001b[1;33m.\u001b[0m\u001b[0mformat\u001b[0m\u001b[1;33m(\u001b[0m\u001b[1;33m)\u001b[0m\u001b[1;33m)\u001b[0m\u001b[1;33m\u001b[0m\u001b[0m\n\u001b[0m\u001b[0;32m    159\u001b[0m         \u001b[1;32mif\u001b[0m \u001b[0mself\u001b[0m\u001b[1;33m.\u001b[0m\u001b[0mnoVideo\u001b[0m\u001b[1;33m:\u001b[0m\u001b[1;33m\u001b[0m\u001b[0m\n\u001b[0;32m    160\u001b[0m             \u001b[0mprn\u001b[0m\u001b[1;33m(\u001b[0m\u001b[0m__name__\u001b[0m\u001b[1;33m)\u001b[0m\u001b[1;33m\u001b[0m\u001b[0m\n",
      "\u001b[1;31mIndexError\u001b[0m: tuple index out of range"
     ]
    }
   ],
   "source": [
    "i_session = 0\n",
    "i_fly = 0\n",
    "raw_data = get_preprocessed_session(raw_data, i_session, i_fly)\n",
    "### scale trajectories to mm\n",
    "scale = 8.543\n",
    "raw_data.set_scale('fix_scale', scale, unit='mm')\n",
    "raw_data.flip_y()\n",
    "raw_data.print_conditions(i_session)"
   ]
  },
  {
   "cell_type": "code",
   "execution_count": null,
   "metadata": {
    "ExecuteTime": {
     "end_time": "2018-01-14T13:43:22.759804Z",
     "start_time": "2018-01-14T13:43:17.397314Z"
    },
    "scrolled": false
   },
   "outputs": [],
   "source": [
    "plot_traj(raw_data, scale, time=(raw_data.first_frame, raw_data.last_frame))\n",
    "#plot_single(raw_data, i_fly, scale, time=(raw_data.first_frame + 3 * 1800, raw_data.first_frame + 5 * 1800))\n",
    "#plot_single(raw_data, i_fly, scale, time=(12700, 13100))"
   ]
  },
  {
   "cell_type": "code",
   "execution_count": null,
   "metadata": {
    "ExecuteTime": {
     "end_time": "2018-01-14T13:28:58.254090Z",
     "start_time": "2018-01-14T13:28:58.209902Z"
    },
    "scrolled": true
   },
   "outputs": [],
   "source": [
    "raw_data.get_data(i_fly).loc[6965:6966]"
   ]
  },
  {
   "cell_type": "code",
   "execution_count": null,
   "metadata": {
    "ExecuteTime": {
     "end_time": "2018-01-14T13:43:53.196989Z",
     "start_time": "2018-01-14T13:43:53.181366Z"
    },
    "scrolled": true
   },
   "outputs": [],
   "source": [
    "raw_data.get_data(i_fly).isnull().values.any()"
   ]
  },
  {
   "cell_type": "code",
   "execution_count": null,
   "metadata": {
    "collapsed": true
   },
   "outputs": [],
   "source": []
  }
 ],
 "metadata": {
  "kernelspec": {
   "display_name": "Python 3",
   "language": "python",
   "name": "python3"
  },
  "language_info": {
   "codemirror_mode": {
    "name": "ipython",
    "version": 3
   },
   "file_extension": ".py",
   "mimetype": "text/x-python",
   "name": "python",
   "nbconvert_exporter": "python",
   "pygments_lexer": "ipython3",
   "version": "3.6.2"
  },
  "latex_envs": {
   "bibliofile": "biblio.bib",
   "cite_by": "apalike",
   "current_citInitial": 1,
   "eqLabelWithNumbers": true,
   "eqNumInitial": 0
  }
 },
 "nbformat": 4,
 "nbformat_minor": 2
}
