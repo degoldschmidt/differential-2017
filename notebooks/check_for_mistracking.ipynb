{
 "cells": [
  {
   "cell_type": "code",
   "execution_count": 1,
   "metadata": {},
   "outputs": [
    {
     "name": "stdout",
     "output_type": "stream",
     "text": [
      "E:/Dennis/Google Drive/PhD Project/Tracking Analysis/profile\\profile.yaml VERO-PC Windows_NT\n",
      "System 'VERO-PC' found.\n",
      "Project 'DIFF' found.\n"
     ]
    }
   ],
   "source": [
    "import os\n",
    "import numpy as np\n",
    "import pandas as pd\n",
    "\n",
    "from pytrack_analysis import Multibench\n",
    "from pytrack_analysis.dataio import RawData, get_session_list\n",
    "from pytrack_analysis.profile import get_profile, get_scriptname, show_profile\n",
    "from pytrack_analysis.posttracking import frameskips, get_displacements, get_head_tail, mistracks, get_pixel_flip\n",
    "from pytrack_analysis.viz import plot_along, plot_fly, plot_interval, plot_overlay, plot_ts\n",
    "import matplotlib.pyplot as plt\n",
    "\n",
    "experiment = 'DIFF'\n",
    "user = 'degoldschmidt'\n",
    "ascript = '001-post_tracking.ipynb'\n",
    "\n",
    "profile = get_profile(experiment, user, script=ascript)\n",
    "load_from_file = True\n",
    "folders = profile.get_folders()"
   ]
  },
  {
   "cell_type": "code",
   "execution_count": 3,
   "metadata": {},
   "outputs": [
    {
     "name": "stdout",
     "output_type": "stream",
     "text": [
      "\u001b[0;36;40m[pytrack_analysis.dataio]\t\u001b[0mLoading raw data folders and file structure...found 72 sessions\u001b[0;32;40mdone.\u001b[0m\n"
     ]
    }
   ],
   "source": [
    "colnames = ['datetime', 'elapsed_time', 'frame_dt', 'body_x',   'body_y',   'angle',    'major',    'minor']\n",
    "colunits = ['Datetime', 's',            's',        'px',       'px',       'rad',      'px',       'px']\n",
    "raw_data = RawData(experiment, folders, columns=colnames, units=colunits, noVideo=True)"
   ]
  },
  {
   "cell_type": "code",
   "execution_count": 2,
   "metadata": {},
   "outputs": [
    {
     "name": "stdout",
     "output_type": "stream",
     "text": [
      "\u001b[0;36;40m[pytrack_analysis.dataio]\t\u001b[0mLoading raw data folders and file structure...found 72 sessions\u001b[0;32;40mdone.\u001b[0m\n",
      "\u001b[0;36;40m[pytrack_analysis.dataio]\t\u001b[0m\u001b[1;33;40mWarning: no video!\u001b[0m\n"
     ]
    },
    {
     "data": {
      "text/plain": [
       "0"
      ]
     },
     "execution_count": 2,
     "metadata": {},
     "output_type": "execute_result"
    }
   ],
   "source": [
    "raw_data.get_session(0)"
   ]
  },
  {
   "cell_type": "code",
   "execution_count": 11,
   "metadata": {},
   "outputs": [],
   "source": [
    "def plot_arena(arena=None, spots=None, condition=None, ax=None):\n",
    "    spot_colors = {'yeast': '#ffc04c', 'sucrose': '#4c8bff'}\n",
    "    cond_colors = {'SAA': '#b6d7a8', 'AA': '#A4C2F4', 'S': '#EA9999', 'O': '#CCCCCC'}\n",
    "    if ax is None:\n",
    "        ax = plt.gca()\n",
    "    ### artists\n",
    "    if arena is not None:\n",
    "        ax.set_xlim([-1.1*arena.ro, 1.1*arena.ro])\n",
    "        ax.set_ylim([-1.1*arena.ro, 1.1*arena.ro])\n",
    "        arena_border = plt.Circle((0, 0), arena.rr, color='k', fill=False)\n",
    "        ax.add_artist(arena_border)\n",
    "        outer_arena_border = plt.Circle((0, 0), arena.ro, color='#aaaaaa', fill=False)\n",
    "        ax.add_artist(outer_arena_border)\n",
    "        ax.plot(0, 0, 'o', color='black', markersize=2)\n",
    "    if spots is not None:\n",
    "        for each_spot in spots:\n",
    "            substr = each_spot.substrate\n",
    "            spot = plt.Circle((each_spot.rx, each_spot.ry), each_spot.rr, color=spot_colors[substr], alpha=0.5)\n",
    "            ax.add_artist(spot)\n",
    "    if condition is not None:\n",
    "        if condition in cond_colors.keys():\n",
    "            spot = plt.Rectangle((-arena.ro, arena.ro-2), 5, 5, color=cond_colors[condition])\n",
    "            ax.add_artist(spot)\n",
    "    ax.set_aspect(\"equal\")\n",
    "    ax.get_xaxis().set_visible(False)\n",
    "    ax.get_yaxis().set_visible(False)\n",
    "    ax.axis('off')\n",
    "    return ax"
   ]
  },
  {
   "cell_type": "code",
   "execution_count": 13,
   "metadata": {
    "collapsed": true
   },
   "outputs": [],
   "source": [
    "def get_session_data(session_id, variables=[]):\n",
    "    colnames = ['datetime', 'elapsed_time', 'frame_dt', 'body_x',   'body_y',   'angle',    'major',    'minor']\n",
    "    colunits = ['Datetime', 's',            's',        'px',       'px',       'rad',      'px',       'px']\n",
    "    session_data = RawData(experiment, session_id, folders, columns=colnames, units=colunits, noVideo=True)\n",
    "    ### scale trajectories to mm\n",
    "    scale = 8.543\n",
    "    session_data.set_scale('fix_scale', scale, unit='mm')\n",
    "    ### detect frameskips\n",
    "    frameskips(session_data, dt='frame_dt')\n",
    "    for i_arena, each_df in enumerate(session_data.raw_data):\n",
    "        arena = session_data.arenas[i_arena]\n",
    "        ### compute frame-to-frame displacements\n",
    "        each_df['displacement'] = get_displacements(each_df, x='body_x', y='body_y')\n",
    "        ### detect mistracked frames\n",
    "        each_df = mistracks(each_df, i_arena, dr='displacement', major='major', thresholds=(4, 5), keep=True)\n",
    "        ### compute head and tail positions\n",
    "        head_tails = get_head_tail(each_df, x='body_x', y='body_y', angle='angle', major='major')\n",
    "        each_df['head_x'] = head_tails['head_x']\n",
    "        each_df['head_y'] = head_tails['head_y']\n",
    "        each_df['tail_x'] = head_tails['tail_x']\n",
    "        each_df['tail_y'] = head_tails['tail_y']\n",
    "        each_df['head_px'] = scale * head_tails['head_x'] + arena.x\n",
    "        each_df['head_py'] = scale * head_tails['head_y'] + arena.y\n",
    "        each_df['tail_px'] = scale * head_tails['tail_x'] + arena.x\n",
    "        each_df['tail_py'] = scale * head_tails['tail_y'] + arena.y\n",
    "        ### detect head flips\n",
    "        file_id = 4 * (session_id-1) + i_arena + 1\n",
    "        _file = os.path.join(folders['processed'],'post_tracking','{}_{:03d}.csv'.format(experiment, file_id))\n",
    "        if load_from_file:\n",
    "            df = pd.read_csv(_file, index_col='frame')\n",
    "            each_df['flip'] = df['flip']\n",
    "            each_df['headpx'] = df['headpx']\n",
    "            each_df['tailpx'] = df['tailpx']\n",
    "        else:\n",
    "            flip, headpx, tailpx = get_pixel_flip(each_df, hx='head_px', hy='head_py', tx='tail_px', ty='tail_py', video=session_data.video_file, start=session_data.first_frame)\n",
    "            each_df['flip'] = flip\n",
    "            each_df['headpx'] = headpx\n",
    "            each_df['tailpx'] = tailpx\n",
    "            each_df.to_csv(_file, index_label='frame')\n",
    "    session_data.flip_y()\n",
    "    return session_data"
   ]
  },
  {
   "cell_type": "code",
   "execution_count": 15,
   "metadata": {},
   "outputs": [
    {
     "name": "stdout",
     "output_type": "stream",
     "text": [
      "\n",
      "Start post-tracking analysis for video session: 01\n",
      "\u001b[0;36;40m[pytrack_analysis.dataio]\t\u001b[0mTimestamp: Friday, 24. November 2017 08:26\n",
      "\u001b[0;36;40m[pytrack_analysis.dataio]\t\u001b[0m\u001b[1;33;40mWarning: no video!\u001b[0m\n",
      "\u001b[0;36;40m[pytrack_analysis.dataio]\t\u001b[0mLoading raw data...\u001b[0;32;40mdone.\u001b[0m\n",
      "\u001b[0;36;40m[pytrack_analysis.arena]\t\u001b[0mloading geometry data...\u001b[0;32;40mdone.\u001b[0m\n",
      "\u001b[0;36;40m[pytrack_analysis.food_spots]\t\u001b[0mloading food spots data...found a total of 48 spots...\u001b[0;32;40mdone.\u001b[0m\n",
      "\u001b[0;36;40m[pytrack_analysis.posttracking]\t\u001b[0mdetected frameskips: 17 (0.016% of all frames)\n",
      "\u001b[0;36;40m[pytrack_analysis.posttracking]\t\u001b[0mArena ↖ - mistracked frames: 0\n",
      "\u001b[0;36;40m[pytrack_analysis.posttracking]\t\u001b[0mArena ↗ - mistracked frames: 0\n",
      "\u001b[0;36;40m[pytrack_analysis.posttracking]\t\u001b[0mArena ↙ - mistracked frames: 0\n",
      "\u001b[0;36;40m[pytrack_analysis.posttracking]\t\u001b[0mArena ↘ - mistracked frames: 0\n"
     ]
    },
    {
     "ename": "AttributeError",
     "evalue": "'RawData' object has no attribute 'this_cond'",
     "output_type": "error",
     "traceback": [
      "\u001b[1;31m---------------------------------------------------------------------------\u001b[0m",
      "\u001b[1;31mAttributeError\u001b[0m                            Traceback (most recent call last)",
      "\u001b[1;32m<ipython-input-15-b2e0b55b8125>\u001b[0m in \u001b[0;36m<module>\u001b[1;34m()\u001b[0m\n\u001b[0;32m      1\u001b[0m \u001b[0msession_data\u001b[0m \u001b[1;33m=\u001b[0m \u001b[0mget_session_data\u001b[0m\u001b[1;33m(\u001b[0m\u001b[1;36m1\u001b[0m\u001b[1;33m,\u001b[0m \u001b[0mvariables\u001b[0m\u001b[1;33m=\u001b[0m\u001b[1;34m'metabolic'\u001b[0m\u001b[1;33m)\u001b[0m\u001b[1;33m\u001b[0m\u001b[0m\n\u001b[1;32m----> 2\u001b[1;33m \u001b[0mplot_traj\u001b[0m\u001b[1;33m(\u001b[0m\u001b[0msession_data\u001b[0m\u001b[1;33m)\u001b[0m\u001b[1;33m\u001b[0m\u001b[0m\n\u001b[0m",
      "\u001b[1;32m<ipython-input-14-dca3ffd6823b>\u001b[0m in \u001b[0;36mplot_traj\u001b[1;34m(data)\u001b[0m\n\u001b[0;32m      8\u001b[0m             \u001b[0mdf\u001b[0m \u001b[1;33m=\u001b[0m \u001b[0mdata\u001b[0m\u001b[1;33m.\u001b[0m\u001b[0mraw_data\u001b[0m\u001b[1;33m[\u001b[0m\u001b[0mfly\u001b[0m\u001b[1;33m]\u001b[0m\u001b[1;33m\u001b[0m\u001b[0m\n\u001b[0;32m      9\u001b[0m             \u001b[0mstart\u001b[0m\u001b[1;33m,\u001b[0m \u001b[0mend\u001b[0m \u001b[1;33m=\u001b[0m \u001b[0mdf\u001b[0m\u001b[1;33m.\u001b[0m\u001b[0mindex\u001b[0m\u001b[1;33m[\u001b[0m\u001b[1;36m0\u001b[0m\u001b[1;33m]\u001b[0m\u001b[1;33m,\u001b[0m \u001b[0mdf\u001b[0m\u001b[1;33m.\u001b[0m\u001b[0mindex\u001b[0m\u001b[1;33m[\u001b[0m\u001b[1;33m-\u001b[0m\u001b[1;36m1\u001b[0m\u001b[1;33m]\u001b[0m\u001b[1;33m\u001b[0m\u001b[0m\n\u001b[1;32m---> 10\u001b[1;33m             \u001b[0max\u001b[0m \u001b[1;33m=\u001b[0m \u001b[0mplot_arena\u001b[0m\u001b[1;33m(\u001b[0m\u001b[0marena\u001b[0m\u001b[1;33m=\u001b[0m\u001b[0marena\u001b[0m\u001b[1;33m,\u001b[0m \u001b[0mspots\u001b[0m\u001b[1;33m=\u001b[0m\u001b[0marena\u001b[0m\u001b[1;33m.\u001b[0m\u001b[0mspots\u001b[0m\u001b[1;33m,\u001b[0m \u001b[0mcondition\u001b[0m\u001b[1;33m=\u001b[0m\u001b[0mdata\u001b[0m\u001b[1;33m.\u001b[0m\u001b[0mthis_cond\u001b[0m\u001b[1;33m[\u001b[0m\u001b[0mfly\u001b[0m\u001b[1;33m]\u001b[0m\u001b[1;33m,\u001b[0m \u001b[0max\u001b[0m\u001b[1;33m=\u001b[0m\u001b[0max\u001b[0m\u001b[1;33m)\u001b[0m\u001b[1;33m\u001b[0m\u001b[0m\n\u001b[0m\u001b[0;32m     11\u001b[0m             \u001b[0mx\u001b[0m \u001b[1;33m=\u001b[0m \u001b[0mdf\u001b[0m\u001b[1;33m.\u001b[0m\u001b[0mloc\u001b[0m\u001b[1;33m[\u001b[0m\u001b[0mstart\u001b[0m\u001b[1;33m:\u001b[0m\u001b[0mend\u001b[0m\u001b[1;33m,\u001b[0m \u001b[1;34m'body_x'\u001b[0m\u001b[1;33m]\u001b[0m\u001b[1;33m\u001b[0m\u001b[0m\n\u001b[0;32m     12\u001b[0m             \u001b[0my\u001b[0m \u001b[1;33m=\u001b[0m \u001b[0mdf\u001b[0m\u001b[1;33m.\u001b[0m\u001b[0mloc\u001b[0m\u001b[1;33m[\u001b[0m\u001b[0mstart\u001b[0m\u001b[1;33m:\u001b[0m\u001b[0mend\u001b[0m\u001b[1;33m,\u001b[0m \u001b[1;34m'body_y'\u001b[0m\u001b[1;33m]\u001b[0m\u001b[1;33m\u001b[0m\u001b[0m\n",
      "\u001b[1;31mAttributeError\u001b[0m: 'RawData' object has no attribute 'this_cond'"
     ]
    },
    {
     "data": {
      "image/png": "[encoded data removed]",
      "text/plain": [
       "<matplotlib.figure.Figure at 0x1a2871663c8>"
      ]
     },
     "metadata": {},
     "output_type": "display_data"
    }
   ],
   "source": [
    "session_data = get_session_data(1, variables='metabolic')\n",
    "plot_traj(session_data)"
   ]
  },
  {
   "cell_type": "code",
   "execution_count": 14,
   "metadata": {
    "collapsed": true
   },
   "outputs": [],
   "source": [
    "def plot_traj(data):\n",
    "    %matplotlib inline\n",
    "    f, axes = plt.subplots(2, 2, figsize=(20,20))\n",
    "    fly = 0\n",
    "    for each_row in axes:\n",
    "        for ax in each_row:\n",
    "            arena = data.arenas[fly]\n",
    "            df = data.raw_data[fly]\n",
    "            start, end = df.index[0], df.index[-1]\n",
    "            ax = plot_arena(arena=arena, spots=arena.spots, condition=data.conditions[fly], ax=ax)\n",
    "            x = df.loc[start:end, 'body_x']\n",
    "            y = df.loc[start:end, 'body_y']\n",
    "            ax.plot(x, y, c='k',)\n",
    "            fly += 1\n",
    "    plt.tight_layout()\n",
    "    plt.show()"
   ]
  },
  {
   "cell_type": "code",
   "execution_count": null,
   "metadata": {
    "collapsed": true,
    "scrolled": false
   },
   "outputs": [],
   "source": []
  },
  {
   "cell_type": "code",
   "execution_count": null,
   "metadata": {
    "collapsed": true
   },
   "outputs": [],
   "source": [
    "import os\n",
    "import numpy as np\n",
    "tmps = [_file[6:-4] for _file in os.listdir('E:/Dennis/Google Drive/PhD Project/Experiments/001-DifferentialDeprivation/data/videos')]\n",
    "conds = np.loadtxt('E:/Dennis/Google Drive/PhD Project/Experiments/001-DifferentialDeprivation/data/manual/metabolic.txt', skiprows=1, dtype=str)"
   ]
  },
  {
   "cell_type": "code",
   "execution_count": null,
   "metadata": {
    "collapsed": true
   },
   "outputs": [],
   "source": [
    "for i, each in enumerate(tmps):\n",
    "    print(each[:-3]+':')\n",
    "    for j in range(1,5):\n",
    "        print('- '+conds[i][j])"
   ]
  },
  {
   "cell_type": "code",
   "execution_count": null,
   "metadata": {
    "collapsed": true
   },
   "outputs": [],
   "source": [
    "print(session_data.allfiles)"
   ]
  },
  {
   "cell_type": "code",
   "execution_count": null,
   "metadata": {
    "collapsed": true
   },
   "outputs": [],
   "source": []
  },
  {
   "cell_type": "code",
   "execution_count": null,
   "metadata": {
    "collapsed": true
   },
   "outputs": [],
   "source": []
  }
 ],
 "metadata": {
  "kernelspec": {
   "display_name": "Python 3",
   "language": "python",
   "name": "python3"
  },
  "language_info": {
   "codemirror_mode": {
    "name": "ipython",
    "version": 3
   },
   "file_extension": ".py",
   "mimetype": "text/x-python",
   "name": "python",
   "nbconvert_exporter": "python",
   "pygments_lexer": "ipython3",
   "version": "3.6.2"
  }
 },
 "nbformat": 4,
 "nbformat_minor": 2
}
