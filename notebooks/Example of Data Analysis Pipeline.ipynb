{
 "cells": [
  {
   "cell_type": "markdown",
   "metadata": {},
   "source": [
    "# Example of Data Analysis Pipeline\n",
    "\n",
    "This notebook illustrates the use of the *PyTrack-analysis* module for centroid trajectory data.  "
   ]
  },
  {
   "cell_type": "code",
   "execution_count": 1,
   "metadata": {},
   "outputs": [
    {
     "name": "stdout",
     "output_type": "stream",
     "text": [
      "E:/Dennis/Google Drive/PhD Project/Tracking Analysis/profile\\profile.yaml VERO-PC Windows_NT\n"
     ]
    }
   ],
   "source": [
    "import os\n",
    "from pytrack_analysis.profile import *\n",
    "from pytrack_analysis.database import *\n",
    "import pytrack_analysis.preprocessing as prp\n",
    "from pytrack_analysis import Kinematics"
   ]
  },
  {
   "cell_type": "code",
   "execution_count": 2,
   "metadata": {},
   "outputs": [
    {
     "name": "stdout",
     "output_type": "stream",
     "text": [
      "System 'VERO-PC' found.\n",
      "Project 'DIFF' found.\n",
      "Found database: E:/Dennis/Google Drive/PhD Project/Experiments/001-DifferentialDeprivation/data/processed/post_tracking/DIFF.yaml\n",
      "STARTING DATA INTEGRITY TEST...\n",
      "-------------------------------\n",
      "CHECKING DATABASE...\t\t\t[O.K.]\n",
      "CHECKING METAFILES...\t\t\t[O.K.]\n",
      "CHECKING DATAFILES...\t\t\t[O.K.]\n",
      "CHECKING TIMESTAMPS...\t\t\t[O.K.]\n",
      "\n",
      "[DONE]\n",
      "***\n",
      "\n",
      "Loading session DIFF_000...\n"
     ]
    }
   ],
   "source": [
    "profile = get_profile('DIFF', 'degoldschmidt', script='Example of Data Analysis Pipeline.ipynb')\n",
    "db = Experiment(get_db(profile)) # database from file\n",
    "df, meta = db.load_data(0)"
   ]
  },
  {
   "cell_type": "code",
   "execution_count": 5,
   "metadata": {},
   "outputs": [
    {
     "name": "stdout",
     "output_type": "stream",
     "text": [
      "Loading session DIFF_000...\n",
      "\n",
      "=================================\n",
      "Meta-data for session DIFF_000\n",
      "=================================\n",
      "\n",
      "\n",
      "(0)\tarena:\n",
      "\t\t\t{'layout': '6-6 radial', 'name': 'topleft', 'outer': 260.0, 'radius': 213.101847692111, 'scale': 8.543, 'x': 365.5986, 'y': 358.9673}\n",
      "\n",
      "(1)\tcondition:\n",
      "\t\t\tSAA\n",
      "\n",
      "(2)\tdatafile:\n",
      "\t\t\tE:/Dennis/Google Drive/PhD Project/Experiments\\001-DifferentialDeprivation\\data\\processed\\post_tracking\\DIFF_000.csv\n",
      "\n",
      "(3)\tdatetime:\n",
      "\t\t\t2017-11-24 08:26:18\n",
      "\n",
      "(4)\tfly:\n",
      "\t\t\t{'genotype': 'Canton Sb', 'mating': 'mated', 'metabolic': 'SAA', 'n_per_arena': 1, 'sex': 'female'}\n",
      "\n",
      "(5)\tfood_spots:\n",
      "\t\t\t[{'r': 1.5, 'substr': 'yeast', 'x': -9.935580787389284, 'y': 0.1723087127862979}, {'r': 1.5, 'substr': 'yeast', 'x': 4.8314916695930386, 'y': -8.848515353700888}, {'r': 1.5, 'substr': 'yeast', 'x': 5.104089117796246, 'y': 8.67620664091459}, {'r': 1.5, 'substr': 'yeast', 'x': 17.095122712552193, 'y': -10.488946115728274}, {'r': 1.5, 'substr': 'yeast', 'x': 0.5852315736080208, 'y': 19.939892699676147}, {'r': 1.5, 'substr': 'yeast', 'x': -17.59616228244116, 'y': -9.511729216007595}, {'r': 1.5, 'substr': 'sucrose', 'x': -4.818566671128313, 'y': 8.690619719624864}, {'r': 1.5, 'substr': 'sucrose', 'x': -5.247293247285096, 'y': -8.608452200890907}, {'r': 1.5, 'substr': 'sucrose', 'x': 10.065859918413409, 'y': -0.0821675187339568}, {'r': 1.5, 'substr': 'sucrose', 'x': -0.5361324388707002, 'y': -20.049283607746677}, {'r': 1.5, 'substr': 'sucrose', 'x': 17.561069413459425, 'y': 9.463120939996788}, {'r': 1.5, 'substr': 'sucrose', 'x': -17.035480276201802, 'y': 10.482858937703815}]\n",
      "\n",
      "(6)\tsetup:\n",
      "\t\t\t{'humidity': '70%', 'light': True, 'name': 'Adler', 'room': 'behavior room', 'temperature': '25C'}\n",
      "\n",
      "(7)\tvideo:\n",
      "\t\t\t{'dir': 'E:/Dennis/Google Drive/PhD Project/Experiments\\\\001-DifferentialDeprivation\\\\data\\\\videos', 'file': 'E:/Dennis/Google Drive/PhD Project/Experiments\\\\001-DifferentialDeprivation\\\\data\\\\videos\\\\cam01_2017-11-24T08_26_19.avi', 'first_frame': 6101, 'last_frame': 114434, 'nframes': 108334, 'start_time': datetime.datetime(2017, 11, 24, 8, 29, 43)}\n",
      "\n",
      "\n",
      "\n"
     ]
    }
   ],
   "source": [
    "print(db.session(0))"
   ]
  },
  {
   "cell_type": "code",
   "execution_count": 4,
   "metadata": {
    "collapsed": true
   },
   "outputs": [],
   "source": [
    "del profile"
   ]
  },
  {
   "cell_type": "code",
   "execution_count": null,
   "metadata": {
    "collapsed": true
   },
   "outputs": [],
   "source": []
  }
 ],
 "metadata": {
  "kernelspec": {
   "display_name": "Python 3",
   "language": "python",
   "name": "python3"
  },
  "language_info": {
   "codemirror_mode": {
    "name": "ipython",
    "version": 3
   },
   "file_extension": ".py",
   "mimetype": "text/x-python",
   "name": "python",
   "nbconvert_exporter": "python",
   "pygments_lexer": "ipython3",
   "version": "3.6.2"
  }
 },
 "nbformat": 4,
 "nbformat_minor": 2
}
