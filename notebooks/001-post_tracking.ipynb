{
 "cells": [
  {
   "cell_type": "code",
   "execution_count": 1,
   "metadata": {
    "collapsed": true
   },
   "outputs": [],
   "source": [
    "import os\n",
    "import numpy as np\n",
    "import pandas as pd\n",
    "import matplotlib.pyplot as plt"
   ]
  },
  {
   "cell_type": "code",
   "execution_count": 2,
   "metadata": {},
   "outputs": [
    {
     "name": "stdout",
     "output_type": "stream",
     "text": [
      "E:/Dennis/Google Drive/PhD Project/Tracking Analysis/profile\\profile.yaml VERO-PC Windows_NT\n"
     ]
    },
    {
     "name": "stderr",
     "output_type": "stream",
     "text": [
      "E:\\Users\\Vero\\AppData\\Local\\Programs\\Python\\Python36\\Lib\\site-packages\\matplotlib\\__init__.py:1405: UserWarning: \n",
      "This call to matplotlib.use() has no effect because the backend has already\n",
      "been chosen; matplotlib.use() must be called *before* pylab, matplotlib.pyplot,\n",
      "or matplotlib.backends is imported for the first time.\n",
      "\n",
      "  warnings.warn(_use_error_msg)\n"
     ]
    }
   ],
   "source": [
    "from pytrack_analysis import Multibench\n",
    "from pytrack_analysis.dataio import RawData, get_session_list\n",
    "from pytrack_analysis.profile import get_profile, get_scriptname, show_profile\n",
    "from pytrack_analysis.posttracking import frameskips, get_displacements, get_head_tail, mistracks, get_pixel_flip\n",
    "from pytrack_analysis.viz import plot_along, plot_fly, plot_intervals, plot_overlay, plot_ts"
   ]
  },
  {
   "cell_type": "code",
   "execution_count": 3,
   "metadata": {
    "collapsed": true
   },
   "outputs": [],
   "source": [
    "experiment = 'DIFF'\n",
    "user = 'degoldschmidt'\n",
    "ascript = '001-post_tracking'"
   ]
  },
  {
   "cell_type": "code",
   "execution_count": 4,
   "metadata": {},
   "outputs": [
    {
     "name": "stdout",
     "output_type": "stream",
     "text": [
      "System 'VERO-PC' found.\n",
      "Project 'DIFF' found.\n"
     ]
    }
   ],
   "source": [
    "profile = get_profile(experiment, user, script=ascript)\n",
    "load_from_file = True\n",
    "folders = profile.get_folders()"
   ]
  },
  {
   "cell_type": "code",
   "execution_count": 5,
   "metadata": {},
   "outputs": [
    {
     "name": "stdout",
     "output_type": "stream",
     "text": [
      "\n",
      "Start post-tracking analysis for video session: 01\n",
      "\u001b[0;36;40m[pytrack_analysis.dataio]\t\u001b[0mTimestamp: Friday, 24. November 2017 08:26\n",
      "\u001b[0;36;40m[pytrack_analysis.dataio]\t\u001b[0mLoading raw data...\u001b[0;32;40mdone.\u001b[0m\n",
      "\u001b[0;36;40m[pytrack_analysis.arena]\t\u001b[0mloading geometry data...\u001b[0;32;40mdone.\u001b[0m\n",
      "\u001b[0;36;40m[pytrack_analysis.food_spots]\t\u001b[0mloading food spots data...found a total of 48 spots...\u001b[0;32;40mdone.\u001b[0m\n"
     ]
    }
   ],
   "source": [
    "### load video session data and metadata\n",
    "this_session = 1\n",
    "colnames = ['datetime', 'elapsed_time', 'frame_dt', 'body_x',   'body_y',   'angle',    'major',    'minor']\n",
    "colunits = ['Datetime', 's',            's',        'px',       'px',       'rad',      'px',       'px']\n",
    "session_data = RawData(experiment, this_session, folders, columns=colnames, units=colunits, noVideo=False)"
   ]
  },
  {
   "cell_type": "code",
   "execution_count": 6,
   "metadata": {},
   "outputs": [
    {
     "name": "stdout",
     "output_type": "stream",
     "text": [
      "\u001b[0;36;40m[pytrack_analysis.posttracking]\t\u001b[0mdetected frameskips: 17 (0.016% of all frames)\n"
     ]
    }
   ],
   "source": [
    "### scale trajectories to mm\n",
    "scale = 8.543\n",
    "session_data.set_scale('fix_scale', scale, unit='mm')\n",
    "### detect frameskips\n",
    "frameskips(session_data, dt='frame_dt')"
   ]
  },
  {
   "cell_type": "code",
   "execution_count": 7,
   "metadata": {},
   "outputs": [
    {
     "name": "stdout",
     "output_type": "stream",
     "text": [
      "\u001b[0;36;40m[pytrack_analysis.posttracking]\t\u001b[0mArena ↖ - mistracked frames: 0\n",
      "Loading data from E:/Dennis/Google Drive/PhD Project/Experiments\\001-DifferentialDeprivation\\data\\processed\\post_tracking\\DIFF_001.csv\n",
      "\u001b[0;36;40m[pytrack_analysis.posttracking]\t\u001b[0mArena ↗ - mistracked frames: 0\n",
      "Loading data from E:/Dennis/Google Drive/PhD Project/Experiments\\001-DifferentialDeprivation\\data\\processed\\post_tracking\\DIFF_002.csv\n",
      "\u001b[0;36;40m[pytrack_analysis.posttracking]\t\u001b[0mArena ↙ - mistracked frames: 0\n",
      "Loading data from E:/Dennis/Google Drive/PhD Project/Experiments\\001-DifferentialDeprivation\\data\\processed\\post_tracking\\DIFF_003.csv\n",
      "\u001b[0;36;40m[pytrack_analysis.posttracking]\t\u001b[0mArena ↘ - mistracked frames: 0\n",
      "Loading data from E:/Dennis/Google Drive/PhD Project/Experiments\\001-DifferentialDeprivation\\data\\processed\\post_tracking\\DIFF_004.csv\n"
     ]
    }
   ],
   "source": [
    "for i_arena, each_df in enumerate(session_data.raw_data):\n",
    "    arena = session_data.arenas[i_arena]\n",
    "    ### compute frame-to-frame displacements\n",
    "    each_df['displacement'] = get_displacements(each_df, x='body_x', y='body_y')\n",
    "    ### detect mistracked frames\n",
    "    each_df = mistracks(each_df, i_arena, dr='displacement', major='major', thresholds=(4, 5))\n",
    "    ### compute head and tail positions\n",
    "    head_tails = get_head_tail(each_df, x='body_x', y='body_y', angle='angle', major='major')\n",
    "    each_df['head_x'] = head_tails['head_x']\n",
    "    each_df['head_y'] = head_tails['head_y']\n",
    "    each_df['head_px'] = scale * head_tails['head_x'] + arena.x\n",
    "    each_df['head_py'] = scale * head_tails['head_y'] + arena.y\n",
    "    each_df['tail_px'] = scale * head_tails['tail_x'] + arena.x\n",
    "    each_df['tail_py'] = scale * head_tails['tail_y'] + arena.y\n",
    "    ### detect head flips\n",
    "    file_id = 4 * (this_session-1) + i_arena + 1\n",
    "    _file = os.path.join(folders['processed'],'post_tracking','{}_{:03d}.csv'.format(experiment, file_id))\n",
    "    if load_from_file:\n",
    "        print(\"Loading data from\", _file)\n",
    "        df = pd.read_csv(_file, index_col='frame')\n",
    "        each_df['flip'] = df['flip']\n",
    "        each_df['headpx'] = df['headpx']\n",
    "        each_df['tailpx'] = df['tailpx']\n",
    "    else:\n",
    "        flip, headpx, tailpx = get_pixel_flip(each_df, hx='head_px', hy='head_py', tx='tail_px', ty='tail_py', video=session_data.video_file, start=session_data.first_frame)\n",
    "        each_df['flip'] = flip\n",
    "        each_df['headpx'] = headpx\n",
    "        each_df['tailpx'] = tailpx\n",
    "        print(\"Saving data to\", _file)\n",
    "        each_df.to_csv(_file, index_label='frame')\n",
    "session_data.flip_y()"
   ]
  },
  {
   "cell_type": "code",
   "execution_count": 8,
   "metadata": {},
   "outputs": [
    {
     "ename": "NameError",
     "evalue": "name 'plot_interval' is not defined",
     "output_type": "error",
     "traceback": [
      "\u001b[1;31m---------------------------------------------------------------------------\u001b[0m",
      "\u001b[1;31mNameError\u001b[0m                                 Traceback (most recent call last)",
      "\u001b[1;32m<ipython-input-8-7eed3a9ede9a>\u001b[0m in \u001b[0;36m<module>\u001b[1;34m()\u001b[0m\n\u001b[0;32m      3\u001b[0m \u001b[0mnintervals\u001b[0m \u001b[1;33m=\u001b[0m \u001b[1;36m24\u001b[0m\u001b[1;33m\u001b[0m\u001b[0m\n\u001b[0;32m      4\u001b[0m \u001b[0mf\u001b[0m\u001b[1;33m,\u001b[0m \u001b[0max\u001b[0m \u001b[1;33m=\u001b[0m \u001b[0mplt\u001b[0m\u001b[1;33m.\u001b[0m\u001b[0msubplots\u001b[0m\u001b[1;33m(\u001b[0m\u001b[1;33m)\u001b[0m\u001b[1;33m\u001b[0m\u001b[0m\n\u001b[1;32m----> 5\u001b[1;33m \u001b[0max\u001b[0m \u001b[1;33m=\u001b[0m \u001b[0mplot_interval\u001b[0m\u001b[1;33m(\u001b[0m\u001b[1;36m0\u001b[0m\u001b[1;33m,\u001b[0m \u001b[0msession_data\u001b[0m\u001b[1;33m.\u001b[0m\u001b[0mraw_data\u001b[0m\u001b[1;33m[\u001b[0m\u001b[0mi\u001b[0m\u001b[1;33m]\u001b[0m\u001b[1;33m,\u001b[0m \u001b[0mx\u001b[0m\u001b[1;33m=\u001b[0m\u001b[1;34m'body_x'\u001b[0m\u001b[1;33m,\u001b[0m \u001b[0my\u001b[0m\u001b[1;33m=\u001b[0m\u001b[1;34m'body_y'\u001b[0m\u001b[1;33m,\u001b[0m \u001b[0mhx\u001b[0m\u001b[1;33m=\u001b[0m\u001b[1;34m'head_x'\u001b[0m\u001b[1;33m,\u001b[0m \u001b[0mhy\u001b[0m\u001b[1;33m=\u001b[0m\u001b[1;34m'head_y'\u001b[0m\u001b[1;33m,\u001b[0m \u001b[0mflip\u001b[0m\u001b[1;33m=\u001b[0m\u001b[1;34m'flip'\u001b[0m\u001b[1;33m,\u001b[0m \u001b[0mtime\u001b[0m\u001b[1;33m=\u001b[0m\u001b[1;34m'elapsed_time'\u001b[0m\u001b[1;33m,\u001b[0m \u001b[0marena\u001b[0m\u001b[1;33m=\u001b[0m\u001b[0marena\u001b[0m\u001b[1;33m,\u001b[0m \u001b[0mspots\u001b[0m\u001b[1;33m=\u001b[0m\u001b[0marena\u001b[0m\u001b[1;33m.\u001b[0m\u001b[0mspots\u001b[0m\u001b[1;33m,\u001b[0m \u001b[0mncols\u001b[0m\u001b[1;33m=\u001b[0m\u001b[1;36m3\u001b[0m\u001b[1;33m)\u001b[0m\u001b[1;33m\u001b[0m\u001b[0m\n\u001b[0m\u001b[0;32m      6\u001b[0m \u001b[1;31m#_file = os.path.join(folders['out'], '{}_{:03d}_intervals.pdf'.format(args.exp, file_id))\u001b[0m\u001b[1;33m\u001b[0m\u001b[1;33m\u001b[0m\u001b[0m\n\u001b[0;32m      7\u001b[0m \u001b[0mplt\u001b[0m\u001b[1;33m.\u001b[0m\u001b[0mtight_layout\u001b[0m\u001b[1;33m(\u001b[0m\u001b[1;33m)\u001b[0m\u001b[1;33m\u001b[0m\u001b[0m\n",
      "\u001b[1;31mNameError\u001b[0m: name 'plot_interval' is not defined"
     ]
    }
   ],
   "source": [
    "i = 0\n",
    "arena = session_data.arenas[i]\n",
    "nintervals = 24\n",
    "f, ax = plt.subplots()\n",
    "ax = plot_interval(0, session_data.raw_data[i], x='body_x', y='body_y', hx='head_x', hy='head_y', flip='flip', time='elapsed_time', arena=arena, spots=arena.spots, ncols=3)\n",
    "#_file = os.path.join(folders['out'], '{}_{:03d}_intervals.pdf'.format(args.exp, file_id))\n",
    "plt.tight_layout()\n",
    "plt.show()\n",
    "    #f.savefig(_file, dpi=600)"
   ]
  },
  {
   "cell_type": "code",
   "execution_count": null,
   "metadata": {
    "collapsed": true
   },
   "outputs": [],
   "source": []
  }
 ],
 "metadata": {
  "kernelspec": {
   "display_name": "Python 3",
   "language": "python",
   "name": "python3"
  },
  "language_info": {
   "codemirror_mode": {
    "name": "ipython",
    "version": 3
   },
   "file_extension": ".py",
   "mimetype": "text/x-python",
   "name": "python",
   "nbconvert_exporter": "python",
   "pygments_lexer": "ipython3",
   "version": "3.6.2"
  }
 },
 "nbformat": 4,
 "nbformat_minor": 2
}
